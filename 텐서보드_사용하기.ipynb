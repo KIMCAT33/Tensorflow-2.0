{
  "nbformat": 4,
  "nbformat_minor": 0,
  "metadata": {
    "colab": {
      "name": "텐서보드 사용하기 ",
      "provenance": [],
      "include_colab_link": true
    },
    "kernelspec": {
      "name": "python3",
      "display_name": "Python 3"
    },
    "accelerator": "GPU"
  },
  "cells": [
    {
      "cell_type": "markdown",
      "metadata": {
        "id": "view-in-github",
        "colab_type": "text"
      },
      "source": [
        "<a href=\"https://colab.research.google.com/github/KIMCAT33/Tensorflow-2.0/blob/master/%ED%85%90%EC%84%9C%EB%B3%B4%EB%93%9C_%EC%82%AC%EC%9A%A9%ED%95%98%EA%B8%B0.ipynb\" target=\"_parent\"><img src=\"https://colab.research.google.com/assets/colab-badge.svg\" alt=\"Open In Colab\"/></a>"
      ]
    },
    {
      "cell_type": "markdown",
      "metadata": {
        "id": "b5n075aXW0ZT",
        "colab_type": "text"
      },
      "source": [
        "# 텐서보드를 이용한 학습과정 표시하기 "
      ]
    },
    {
      "cell_type": "markdown",
      "metadata": {
        "id": "Rb7POrpQW91h",
        "colab_type": "text"
      },
      "source": [
        "<font size=\"4em\">좋은 모델을 개발하려면 실험하는 모델 내부에서 어떤 일이 일어나는지 자주 그리고 많은 피드백을 받아야 합니다. 모델이 얼마나 잘 작동하는지 가능한 많은 정보를 얻는 것이 우리의 목적이기 때문입니다. 케라스는 가능한 최단 시간에 아이디어를 실험을 구현하도록 도와주며 실험 결과를 확인 하는 방법이 바로 텐서보드를 이용하는 것입니다.\n",
        "\n",
        "---\n",
        "\n",
        "\n",
        "![alt text](https://www.tensorflow.org/images/mnist_tensorboard.png)\n",
        "\n",
        "Image take from: https://www.tensorflow.org/guide/summaries_and_tensorboard\n"
      ]
    },
    {
      "cell_type": "code",
      "metadata": {
        "id": "Bo6_WB3iWOeo",
        "colab_type": "code",
        "colab": {
          "base_uri": "https://localhost:8080/",
          "height": 35
        },
        "outputId": "e9706665-7f09-44ce-848a-fd31fac11932"
      },
      "source": [
        "from keras.utils import np_utils\n",
        "from keras.datasets import mnist\n",
        "from keras.models import Sequential\n",
        "from keras.layers import Dense, Activation\n",
        "import keras\n",
        "import numpy as np\n",
        "\n",
        "np.random.seed(3)\n"
      ],
      "execution_count": 1,
      "outputs": [
        {
          "output_type": "stream",
          "text": [
            "Using TensorFlow backend.\n"
          ],
          "name": "stderr"
        }
      ]
    },
    {
      "cell_type": "markdown",
      "metadata": {
        "id": "M3DWl_7WWmu2",
        "colab_type": "text"
      },
      "source": [
        "# **1. 데이터 셋 준비하기**"
      ]
    },
    {
      "cell_type": "code",
      "metadata": {
        "id": "3Wj8rRVDWtnD",
        "colab_type": "code",
        "colab": {
          "base_uri": "https://localhost:8080/",
          "height": 52
        },
        "outputId": "331e5613-ab52-4b88-d739-706c8d39627f"
      },
      "source": [
        "(X_train, Y_train) , (X_test, Y_test) = mnist.load_data() # 훈련 셋과 시험 셋 로딩"
      ],
      "execution_count": 2,
      "outputs": [
        {
          "output_type": "stream",
          "text": [
            "Downloading data from https://s3.amazonaws.com/img-datasets/mnist.npz\n",
            "11493376/11490434 [==============================] - 2s 0us/step\n"
          ],
          "name": "stdout"
        }
      ]
    },
    {
      "cell_type": "code",
      "metadata": {
        "id": "CnoTeB4-YdQA",
        "colab_type": "code",
        "colab": {}
      },
      "source": [
        "#훈련 셋과 검증 셋 분리\n",
        "X_val = X_train[50000:]\n",
        "Y_val = Y_train[50000:]\n",
        "X_train = X_train[:50000]\n",
        "Y_train = Y_train[:50000]"
      ],
      "execution_count": 0,
      "outputs": []
    },
    {
      "cell_type": "markdown",
      "metadata": {
        "id": "rSKiKqkfYyvO",
        "colab_type": "text"
      },
      "source": [
        "MNIST 이미지 데이터를 각각 픽셀의 최대 값인 255로 나누어 줍니다. \n",
        "\n",
        "이것으로 각 픽셀은 [0, 1] 의 범위를 가지게 되는데, 이런 이미지 정규화를 통해 우리의 모델이 훈련을 좀 더 빠르게 할 수 있도록 만들어줍니다.\n",
        "\n",
        "또한 MNIST 이미지 데이터는 (가로, 세로, 차원) = (28, 28, 1) 이므로 (데이터 수, 28*28) 사이즈로 reshape 해줍니다."
      ]
    },
    {
      "cell_type": "code",
      "metadata": {
        "id": "42YoVCD6YriO",
        "colab_type": "code",
        "colab": {}
      },
      "source": [
        "X_train = X_train.reshape(50000, 784).astype('float32') / 255.0\n",
        "X_val = X_val.reshape(10000, 784).astype('float32') / 255.0\n",
        "X_test = X_test.reshape(10000, 784).astype('float32') / 255.0"
      ],
      "execution_count": 0,
      "outputs": []
    },
    {
      "cell_type": "code",
      "metadata": {
        "id": "ZaIx64oyZwGw",
        "colab_type": "code",
        "colab": {}
      },
      "source": [
        "# 훈련 셋, 검증셋 고르기\n",
        "train_rand_idxs = np.random.choice(50000, 700)\n",
        "val_rand_idxs = np.random.choice(10000, 300)"
      ],
      "execution_count": 0,
      "outputs": []
    },
    {
      "cell_type": "code",
      "metadata": {
        "id": "W6sO3wr7Z8U9",
        "colab_type": "code",
        "colab": {}
      },
      "source": [
        "X_train = X_train[train_rand_idxs]\n",
        "Y_train = Y_train[train_rand_idxs]\n",
        "X_val = X_val[val_rand_idxs]\n",
        "Y_val = Y_val[val_rand_idxs]"
      ],
      "execution_count": 0,
      "outputs": []
    },
    {
      "cell_type": "code",
      "metadata": {
        "id": "Hektz38eaLMt",
        "colab_type": "code",
        "colab": {}
      },
      "source": [
        "# 라벨링 전환\n",
        "Y_train = np_utils.to_categorical(Y_train)\n",
        "Y_val = np_utils.to_categorical(Y_val)\n",
        "Y_test = np_utils.to_categorical(Y_test)"
      ],
      "execution_count": 0,
      "outputs": []
    },
    {
      "cell_type": "markdown",
      "metadata": {
        "id": "YDBeH-jaad1K",
        "colab_type": "text"
      },
      "source": [
        "# 2. 모델 구성하기"
      ]
    },
    {
      "cell_type": "code",
      "metadata": {
        "id": "VCW661TJaU_t",
        "colab_type": "code",
        "colab": {
          "base_uri": "https://localhost:8080/",
          "height": 124
        },
        "outputId": "b530f446-4e35-4e4c-b1d6-a16bb86638d4"
      },
      "source": [
        "model = Sequential()\n",
        "model.add(Dense(2, input_shape=(28*28,), activation='relu'))\n",
        "model.add(Dense(10, activation='softmax'))"
      ],
      "execution_count": 8,
      "outputs": [
        {
          "output_type": "stream",
          "text": [
            "WARNING:tensorflow:From /usr/local/lib/python3.6/dist-packages/keras/backend/tensorflow_backend.py:66: The name tf.get_default_graph is deprecated. Please use tf.compat.v1.get_default_graph instead.\n",
            "\n",
            "WARNING:tensorflow:From /usr/local/lib/python3.6/dist-packages/keras/backend/tensorflow_backend.py:541: The name tf.placeholder is deprecated. Please use tf.compat.v1.placeholder instead.\n",
            "\n",
            "WARNING:tensorflow:From /usr/local/lib/python3.6/dist-packages/keras/backend/tensorflow_backend.py:4432: The name tf.random_uniform is deprecated. Please use tf.random.uniform instead.\n",
            "\n"
          ],
          "name": "stdout"
        }
      ]
    },
    {
      "cell_type": "markdown",
      "metadata": {
        "id": "HygtwADjayKB",
        "colab_type": "text"
      },
      "source": [
        "# 3. 모델 compile"
      ]
    },
    {
      "cell_type": "code",
      "metadata": {
        "id": "BkP4PnfiauAp",
        "colab_type": "code",
        "colab": {
          "base_uri": "https://localhost:8080/",
          "height": 88
        },
        "outputId": "3cb043e0-1f93-4766-d7f2-3e415356f597"
      },
      "source": [
        "model.compile(loss='categorical_crossentropy',\n",
        "              optimizer='sgd',\n",
        "              metrics=['accuracy'])"
      ],
      "execution_count": 9,
      "outputs": [
        {
          "output_type": "stream",
          "text": [
            "WARNING:tensorflow:From /usr/local/lib/python3.6/dist-packages/keras/optimizers.py:793: The name tf.train.Optimizer is deprecated. Please use tf.compat.v1.train.Optimizer instead.\n",
            "\n",
            "WARNING:tensorflow:From /usr/local/lib/python3.6/dist-packages/keras/backend/tensorflow_backend.py:3576: The name tf.log is deprecated. Please use tf.math.log instead.\n",
            "\n"
          ],
          "name": "stdout"
        }
      ]
    },
    {
      "cell_type": "markdown",
      "metadata": {
        "id": "2qgWmbe0bAZb",
        "colab_type": "text"
      },
      "source": [
        "# 4. 텐서보드 설정 및 모델 학습시키기"
      ]
    },
    {
      "cell_type": "code",
      "metadata": {
        "id": "6LoPgv4jeMGq",
        "colab_type": "code",
        "colab": {
          "base_uri": "https://localhost:8080/",
          "height": 284
        },
        "outputId": "56355690-8482-4fae-9be5-80bd5d874511"
      },
      "source": [
        " # 환경 및 경로 설정\n",
        " LOG_DIR = '/tmp/log'\n",
        "get_ipython().system_raw(\n",
        "    'tensorboard --logdir {} --host 0.0.0.0 --port 6006 &'\n",
        "    .format(LOG_DIR)\n",
        ")\n",
        "\n",
        "! wget https://bin.equinox.io/c/4VmDzA7iaHb/ngrok-stable-linux-amd64.zip\n",
        "! unzip ngrok-stable-linux-amd64.zip\n",
        "\n",
        "get_ipython().system_raw('./ngrok http 6006 &')\n",
        "\n",
        "! curl -s http://localhost:4040/api/tunnels | python3 -c \\\n",
        "    \"import sys, json; print(json.load(sys.stdin)['tunnels'][0]['public_url'])\""
      ],
      "execution_count": 24,
      "outputs": [
        {
          "output_type": "stream",
          "text": [
            "--2019-09-23 04:58:25--  https://bin.equinox.io/c/4VmDzA7iaHb/ngrok-stable-linux-amd64.zip\n",
            "Resolving bin.equinox.io (bin.equinox.io)... 52.72.230.122, 35.170.135.225, 52.71.139.107, ...\n",
            "Connecting to bin.equinox.io (bin.equinox.io)|52.72.230.122|:443... connected.\n",
            "HTTP request sent, awaiting response... 200 OK\n",
            "Length: 13607069 (13M) [application/octet-stream]\n",
            "Saving to: ‘ngrok-stable-linux-amd64.zip.1’\n",
            "\n",
            "ngrok-stable-linux- 100%[===================>]  12.98M  7.72MB/s    in 1.7s    \n",
            "\n",
            "2019-09-23 04:58:27 (7.72 MB/s) - ‘ngrok-stable-linux-amd64.zip.1’ saved [13607069/13607069]\n",
            "\n",
            "Archive:  ngrok-stable-linux-amd64.zip\n",
            "replace ngrok? [y]es, [n]o, [A]ll, [N]one, [r]ename: A\n",
            "  inflating: ngrok                   \n",
            "https://18bafae3.ngrok.io\n"
          ],
          "name": "stdout"
        }
      ]
    },
    {
      "cell_type": "markdown",
      "metadata": {
        "id": "KGJxiiKzfZ5Z",
        "colab_type": "text"
      },
      "source": [
        "\n",
        "\n",
        "---\n",
        "\n",
        "\n",
        "\n",
        "---\n",
        "\n",
        "\n",
        "**<font size=\"4em\">아래의 모델을 학습시킨 후 위 실행 결과로 생긴 URL(\"https://18bafae3.ngrok.io\" )을 이용해 텐서보드를 확인할 수 있다. **"
      ]
    },
    {
      "cell_type": "code",
      "metadata": {
        "id": "0xl3nEBIa-N0",
        "colab_type": "code",
        "colab": {
          "base_uri": "https://localhost:8080/",
          "height": 1000
        },
        "outputId": "fe544b52-952a-4403-8d87-3b724c2d8aed"
      },
      "source": [
        "\n",
        "\n",
        "tb_hist = keras.callbacks.TensorBoard(log_dir=LOG_DIR,\n",
        "                                      histogram_freq=0,\n",
        "                                      write_graph=True,\n",
        "                                      write_images=True)\n",
        "hist = model.fit(X_train, Y_train,\n",
        "                 epochs=100,\n",
        "                 batch_size=10,\n",
        "                 validation_data=(X_val, Y_val),\n",
        "                 callbacks=[tb_hist])\n"
      ],
      "execution_count": 25,
      "outputs": [
        {
          "output_type": "stream",
          "text": [
            "Train on 700 samples, validate on 300 samples\n",
            "Epoch 1/100\n",
            "700/700 [==============================] - 0s 301us/step - loss: 1.4798 - acc: 0.3971 - val_loss: 2.0124 - val_acc: 0.2433\n",
            "Epoch 2/100\n",
            "700/700 [==============================] - 0s 283us/step - loss: 1.4806 - acc: 0.4000 - val_loss: 2.0120 - val_acc: 0.2233\n",
            "Epoch 3/100\n",
            "700/700 [==============================] - 0s 275us/step - loss: 1.4807 - acc: 0.3914 - val_loss: 2.0055 - val_acc: 0.2267\n",
            "Epoch 4/100\n",
            "700/700 [==============================] - 0s 283us/step - loss: 1.4799 - acc: 0.3971 - val_loss: 2.0049 - val_acc: 0.2300\n",
            "Epoch 5/100\n",
            "700/700 [==============================] - 0s 297us/step - loss: 1.4808 - acc: 0.3986 - val_loss: 2.0173 - val_acc: 0.2267\n",
            "Epoch 6/100\n",
            "700/700 [==============================] - 0s 280us/step - loss: 1.4784 - acc: 0.4000 - val_loss: 2.0417 - val_acc: 0.2367\n",
            "Epoch 7/100\n",
            "700/700 [==============================] - 0s 309us/step - loss: 1.4790 - acc: 0.3986 - val_loss: 2.0099 - val_acc: 0.2500\n",
            "Epoch 8/100\n",
            "700/700 [==============================] - 0s 285us/step - loss: 1.4785 - acc: 0.4014 - val_loss: 2.0133 - val_acc: 0.2267\n",
            "Epoch 9/100\n",
            "700/700 [==============================] - 0s 307us/step - loss: 1.4788 - acc: 0.3986 - val_loss: 1.9992 - val_acc: 0.2267\n",
            "Epoch 10/100\n",
            "700/700 [==============================] - 0s 318us/step - loss: 1.4764 - acc: 0.3986 - val_loss: 2.0008 - val_acc: 0.2300\n",
            "Epoch 11/100\n",
            "700/700 [==============================] - 0s 307us/step - loss: 1.4784 - acc: 0.4029 - val_loss: 2.0314 - val_acc: 0.2367\n",
            "Epoch 12/100\n",
            "700/700 [==============================] - 0s 309us/step - loss: 1.4773 - acc: 0.3929 - val_loss: 2.0214 - val_acc: 0.2267\n",
            "Epoch 13/100\n",
            "700/700 [==============================] - 0s 282us/step - loss: 1.4777 - acc: 0.3914 - val_loss: 2.0254 - val_acc: 0.2233\n",
            "Epoch 14/100\n",
            "700/700 [==============================] - 0s 320us/step - loss: 1.4782 - acc: 0.3971 - val_loss: 2.0287 - val_acc: 0.2267\n",
            "Epoch 15/100\n",
            "700/700 [==============================] - 0s 276us/step - loss: 1.4775 - acc: 0.3971 - val_loss: 2.0219 - val_acc: 0.2333\n",
            "Epoch 16/100\n",
            "700/700 [==============================] - 0s 292us/step - loss: 1.4770 - acc: 0.4014 - val_loss: 2.0195 - val_acc: 0.2400\n",
            "Epoch 17/100\n",
            "700/700 [==============================] - 0s 280us/step - loss: 1.4765 - acc: 0.3957 - val_loss: 2.0294 - val_acc: 0.2333\n",
            "Epoch 18/100\n",
            "700/700 [==============================] - 0s 296us/step - loss: 1.4764 - acc: 0.3843 - val_loss: 2.0170 - val_acc: 0.2267\n",
            "Epoch 19/100\n",
            "700/700 [==============================] - 0s 319us/step - loss: 1.4749 - acc: 0.4029 - val_loss: 2.0341 - val_acc: 0.2433\n",
            "Epoch 20/100\n",
            "700/700 [==============================] - 0s 284us/step - loss: 1.4753 - acc: 0.4000 - val_loss: 2.0387 - val_acc: 0.2267\n",
            "Epoch 21/100\n",
            "700/700 [==============================] - 0s 301us/step - loss: 1.4755 - acc: 0.4000 - val_loss: 2.0245 - val_acc: 0.2267\n",
            "Epoch 22/100\n",
            "700/700 [==============================] - 0s 279us/step - loss: 1.4725 - acc: 0.4000 - val_loss: 2.0282 - val_acc: 0.2533\n",
            "Epoch 23/100\n",
            "700/700 [==============================] - 0s 292us/step - loss: 1.4749 - acc: 0.4014 - val_loss: 2.0181 - val_acc: 0.2300\n",
            "Epoch 24/100\n",
            "700/700 [==============================] - 0s 293us/step - loss: 1.4737 - acc: 0.4000 - val_loss: 2.0225 - val_acc: 0.2300\n",
            "Epoch 25/100\n",
            "700/700 [==============================] - 0s 296us/step - loss: 1.4748 - acc: 0.3943 - val_loss: 2.0162 - val_acc: 0.2300\n",
            "Epoch 26/100\n",
            "700/700 [==============================] - 0s 295us/step - loss: 1.4743 - acc: 0.3914 - val_loss: 2.0205 - val_acc: 0.2467\n",
            "Epoch 27/100\n",
            "700/700 [==============================] - 0s 282us/step - loss: 1.4750 - acc: 0.3886 - val_loss: 2.0235 - val_acc: 0.2433\n",
            "Epoch 28/100\n",
            "700/700 [==============================] - 0s 299us/step - loss: 1.4735 - acc: 0.3929 - val_loss: 2.0120 - val_acc: 0.2333\n",
            "Epoch 29/100\n",
            "700/700 [==============================] - 0s 301us/step - loss: 1.4727 - acc: 0.3957 - val_loss: 2.0199 - val_acc: 0.2433\n",
            "Epoch 30/100\n",
            "700/700 [==============================] - 0s 273us/step - loss: 1.4736 - acc: 0.3929 - val_loss: 2.0223 - val_acc: 0.2267\n",
            "Epoch 31/100\n",
            "700/700 [==============================] - 0s 307us/step - loss: 1.4731 - acc: 0.3986 - val_loss: 2.0222 - val_acc: 0.2267\n",
            "Epoch 32/100\n",
            "700/700 [==============================] - 0s 285us/step - loss: 1.4720 - acc: 0.3957 - val_loss: 2.0163 - val_acc: 0.2300\n",
            "Epoch 33/100\n",
            "700/700 [==============================] - 0s 277us/step - loss: 1.4717 - acc: 0.4043 - val_loss: 2.0241 - val_acc: 0.2267\n",
            "Epoch 34/100\n",
            "700/700 [==============================] - 0s 310us/step - loss: 1.4724 - acc: 0.3986 - val_loss: 2.0195 - val_acc: 0.2333\n",
            "Epoch 35/100\n",
            "700/700 [==============================] - 0s 283us/step - loss: 1.4712 - acc: 0.3929 - val_loss: 2.0266 - val_acc: 0.2267\n",
            "Epoch 36/100\n",
            "700/700 [==============================] - 0s 298us/step - loss: 1.4724 - acc: 0.4029 - val_loss: 2.0191 - val_acc: 0.2367\n",
            "Epoch 37/100\n",
            "700/700 [==============================] - 0s 308us/step - loss: 1.4712 - acc: 0.3914 - val_loss: 2.0257 - val_acc: 0.2267\n",
            "Epoch 38/100\n",
            "700/700 [==============================] - 0s 313us/step - loss: 1.4706 - acc: 0.4000 - val_loss: 2.0284 - val_acc: 0.2267\n",
            "Epoch 39/100\n",
            "700/700 [==============================] - 0s 296us/step - loss: 1.4705 - acc: 0.4014 - val_loss: 2.0261 - val_acc: 0.2300\n",
            "Epoch 40/100\n",
            "700/700 [==============================] - 0s 286us/step - loss: 1.4698 - acc: 0.3971 - val_loss: 2.0382 - val_acc: 0.2300\n",
            "Epoch 41/100\n",
            "700/700 [==============================] - 0s 296us/step - loss: 1.4687 - acc: 0.4029 - val_loss: 2.0405 - val_acc: 0.2467\n",
            "Epoch 42/100\n",
            "700/700 [==============================] - 0s 292us/step - loss: 1.4688 - acc: 0.3986 - val_loss: 2.0192 - val_acc: 0.2300\n",
            "Epoch 43/100\n",
            "700/700 [==============================] - 0s 331us/step - loss: 1.4702 - acc: 0.3986 - val_loss: 2.0308 - val_acc: 0.2300\n",
            "Epoch 44/100\n",
            "700/700 [==============================] - 0s 287us/step - loss: 1.4688 - acc: 0.4086 - val_loss: 2.0294 - val_acc: 0.2300\n",
            "Epoch 45/100\n",
            "700/700 [==============================] - 0s 281us/step - loss: 1.4693 - acc: 0.3971 - val_loss: 2.0280 - val_acc: 0.2300\n",
            "Epoch 46/100\n",
            "700/700 [==============================] - 0s 298us/step - loss: 1.4687 - acc: 0.4043 - val_loss: 2.0284 - val_acc: 0.2467\n",
            "Epoch 47/100\n",
            "700/700 [==============================] - 0s 278us/step - loss: 1.4690 - acc: 0.3986 - val_loss: 2.0301 - val_acc: 0.2367\n",
            "Epoch 48/100\n",
            "700/700 [==============================] - 0s 325us/step - loss: 1.4684 - acc: 0.3971 - val_loss: 2.0206 - val_acc: 0.2300\n",
            "Epoch 49/100\n",
            "700/700 [==============================] - 0s 294us/step - loss: 1.4690 - acc: 0.3971 - val_loss: 2.0346 - val_acc: 0.2267\n",
            "Epoch 50/100\n",
            "700/700 [==============================] - 0s 301us/step - loss: 1.4675 - acc: 0.4014 - val_loss: 2.0368 - val_acc: 0.2433\n",
            "Epoch 51/100\n",
            "700/700 [==============================] - 0s 312us/step - loss: 1.4672 - acc: 0.4129 - val_loss: 2.0221 - val_acc: 0.2333\n",
            "Epoch 52/100\n",
            "700/700 [==============================] - 0s 322us/step - loss: 1.4674 - acc: 0.4057 - val_loss: 2.0483 - val_acc: 0.2300\n",
            "Epoch 53/100\n",
            "700/700 [==============================] - 0s 306us/step - loss: 1.4671 - acc: 0.4014 - val_loss: 2.0311 - val_acc: 0.2467\n",
            "Epoch 54/100\n",
            "700/700 [==============================] - 0s 303us/step - loss: 1.4675 - acc: 0.4029 - val_loss: 2.0122 - val_acc: 0.2467\n",
            "Epoch 55/100\n",
            "700/700 [==============================] - 0s 310us/step - loss: 1.4646 - acc: 0.4000 - val_loss: 2.0182 - val_acc: 0.2600\n",
            "Epoch 56/100\n",
            "700/700 [==============================] - 0s 291us/step - loss: 1.4664 - acc: 0.4129 - val_loss: 2.0289 - val_acc: 0.2567\n",
            "Epoch 57/100\n",
            "700/700 [==============================] - 0s 311us/step - loss: 1.4659 - acc: 0.4000 - val_loss: 2.0522 - val_acc: 0.2433\n",
            "Epoch 58/100\n",
            "700/700 [==============================] - 0s 308us/step - loss: 1.4666 - acc: 0.4086 - val_loss: 2.0283 - val_acc: 0.2300\n",
            "Epoch 59/100\n",
            "700/700 [==============================] - 0s 298us/step - loss: 1.4653 - acc: 0.3914 - val_loss: 2.0313 - val_acc: 0.2567\n",
            "Epoch 60/100\n",
            "700/700 [==============================] - 0s 302us/step - loss: 1.4663 - acc: 0.4086 - val_loss: 2.0419 - val_acc: 0.2433\n",
            "Epoch 61/100\n",
            "700/700 [==============================] - 0s 304us/step - loss: 1.4640 - acc: 0.3971 - val_loss: 2.0253 - val_acc: 0.2333\n",
            "Epoch 62/100\n",
            "700/700 [==============================] - 0s 303us/step - loss: 1.4662 - acc: 0.4014 - val_loss: 2.0368 - val_acc: 0.2267\n",
            "Epoch 63/100\n",
            "700/700 [==============================] - 0s 318us/step - loss: 1.4645 - acc: 0.4043 - val_loss: 2.0417 - val_acc: 0.2300\n",
            "Epoch 64/100\n",
            "700/700 [==============================] - 0s 300us/step - loss: 1.4638 - acc: 0.4143 - val_loss: 2.0412 - val_acc: 0.2300\n",
            "Epoch 65/100\n",
            "700/700 [==============================] - 0s 311us/step - loss: 1.4643 - acc: 0.4000 - val_loss: 2.0417 - val_acc: 0.2300\n",
            "Epoch 66/100\n",
            "700/700 [==============================] - 0s 302us/step - loss: 1.4636 - acc: 0.3971 - val_loss: 2.0370 - val_acc: 0.2267\n",
            "Epoch 67/100\n",
            "700/700 [==============================] - 0s 343us/step - loss: 1.4626 - acc: 0.4100 - val_loss: 2.0525 - val_acc: 0.2367\n",
            "Epoch 68/100\n",
            "700/700 [==============================] - 0s 316us/step - loss: 1.4636 - acc: 0.4057 - val_loss: 2.0412 - val_acc: 0.2300\n",
            "Epoch 69/100\n",
            "700/700 [==============================] - 0s 295us/step - loss: 1.4634 - acc: 0.4029 - val_loss: 2.0335 - val_acc: 0.2500\n",
            "Epoch 70/100\n",
            "700/700 [==============================] - 0s 301us/step - loss: 1.4637 - acc: 0.4014 - val_loss: 2.0487 - val_acc: 0.2267\n",
            "Epoch 71/100\n",
            "700/700 [==============================] - 0s 287us/step - loss: 1.4614 - acc: 0.4043 - val_loss: 2.0472 - val_acc: 0.2300\n",
            "Epoch 72/100\n",
            "700/700 [==============================] - 0s 307us/step - loss: 1.4613 - acc: 0.4114 - val_loss: 2.0439 - val_acc: 0.2300\n",
            "Epoch 73/100\n",
            "700/700 [==============================] - 0s 301us/step - loss: 1.4627 - acc: 0.3986 - val_loss: 2.0336 - val_acc: 0.2333\n",
            "Epoch 74/100\n",
            "700/700 [==============================] - 0s 329us/step - loss: 1.4625 - acc: 0.4000 - val_loss: 2.0306 - val_acc: 0.2300\n",
            "Epoch 75/100\n",
            "700/700 [==============================] - 0s 293us/step - loss: 1.4611 - acc: 0.4071 - val_loss: 2.0480 - val_acc: 0.2333\n",
            "Epoch 76/100\n",
            "700/700 [==============================] - 0s 291us/step - loss: 1.4616 - acc: 0.4029 - val_loss: 2.0308 - val_acc: 0.2300\n",
            "Epoch 77/100\n",
            "700/700 [==============================] - 0s 293us/step - loss: 1.4615 - acc: 0.4057 - val_loss: 2.0449 - val_acc: 0.2500\n",
            "Epoch 78/100\n",
            "700/700 [==============================] - 0s 284us/step - loss: 1.4625 - acc: 0.4057 - val_loss: 2.0424 - val_acc: 0.2267\n",
            "Epoch 79/100\n",
            "700/700 [==============================] - 0s 284us/step - loss: 1.4599 - acc: 0.4071 - val_loss: 2.0541 - val_acc: 0.2333\n",
            "Epoch 80/100\n",
            "700/700 [==============================] - 0s 305us/step - loss: 1.4609 - acc: 0.4057 - val_loss: 2.0430 - val_acc: 0.2333\n",
            "Epoch 81/100\n",
            "700/700 [==============================] - 0s 286us/step - loss: 1.4607 - acc: 0.4071 - val_loss: 2.0506 - val_acc: 0.2267\n",
            "Epoch 82/100\n",
            "700/700 [==============================] - 0s 297us/step - loss: 1.4602 - acc: 0.4086 - val_loss: 2.0454 - val_acc: 0.2300\n",
            "Epoch 83/100\n",
            "700/700 [==============================] - 0s 290us/step - loss: 1.4592 - acc: 0.4086 - val_loss: 2.0567 - val_acc: 0.2367\n",
            "Epoch 84/100\n",
            "700/700 [==============================] - 0s 281us/step - loss: 1.4595 - acc: 0.3971 - val_loss: 2.0465 - val_acc: 0.2467\n",
            "Epoch 85/100\n",
            "700/700 [==============================] - 0s 294us/step - loss: 1.4593 - acc: 0.4029 - val_loss: 2.0419 - val_acc: 0.2367\n",
            "Epoch 86/100\n",
            "700/700 [==============================] - 0s 331us/step - loss: 1.4586 - acc: 0.4043 - val_loss: 2.0466 - val_acc: 0.2333\n",
            "Epoch 87/100\n",
            "700/700 [==============================] - 0s 292us/step - loss: 1.4586 - acc: 0.4071 - val_loss: 2.0610 - val_acc: 0.2333\n",
            "Epoch 88/100\n",
            "700/700 [==============================] - 0s 300us/step - loss: 1.4583 - acc: 0.4043 - val_loss: 2.0482 - val_acc: 0.2333\n",
            "Epoch 89/100\n",
            "700/700 [==============================] - 0s 305us/step - loss: 1.4576 - acc: 0.4071 - val_loss: 2.0363 - val_acc: 0.2367\n",
            "Epoch 90/100\n",
            "700/700 [==============================] - 0s 296us/step - loss: 1.4574 - acc: 0.3986 - val_loss: 2.0356 - val_acc: 0.2333\n",
            "Epoch 91/100\n",
            "700/700 [==============================] - 0s 294us/step - loss: 1.4576 - acc: 0.4129 - val_loss: 2.0553 - val_acc: 0.2367\n",
            "Epoch 92/100\n",
            "700/700 [==============================] - 0s 286us/step - loss: 1.4579 - acc: 0.4100 - val_loss: 2.0496 - val_acc: 0.2400\n",
            "Epoch 93/100\n",
            "700/700 [==============================] - 0s 299us/step - loss: 1.4585 - acc: 0.4100 - val_loss: 2.0461 - val_acc: 0.2367\n",
            "Epoch 94/100\n",
            "700/700 [==============================] - 0s 274us/step - loss: 1.4570 - acc: 0.4186 - val_loss: 2.0489 - val_acc: 0.2300\n",
            "Epoch 95/100\n",
            "700/700 [==============================] - 0s 282us/step - loss: 1.4570 - acc: 0.4014 - val_loss: 2.0460 - val_acc: 0.2367\n",
            "Epoch 96/100\n",
            "700/700 [==============================] - 0s 308us/step - loss: 1.4563 - acc: 0.4100 - val_loss: 2.0559 - val_acc: 0.2367\n",
            "Epoch 97/100\n",
            "700/700 [==============================] - 0s 291us/step - loss: 1.4556 - acc: 0.4086 - val_loss: 2.0548 - val_acc: 0.2267\n",
            "Epoch 98/100\n",
            "700/700 [==============================] - 0s 295us/step - loss: 1.4551 - acc: 0.4071 - val_loss: 2.0364 - val_acc: 0.2533\n",
            "Epoch 99/100\n",
            "700/700 [==============================] - 0s 277us/step - loss: 1.4545 - acc: 0.4100 - val_loss: 2.0562 - val_acc: 0.2300\n",
            "Epoch 100/100\n",
            "700/700 [==============================] - 0s 284us/step - loss: 1.4565 - acc: 0.4143 - val_loss: 2.0591 - val_acc: 0.2467\n"
          ],
          "name": "stdout"
        }
      ]
    }
  ]
}