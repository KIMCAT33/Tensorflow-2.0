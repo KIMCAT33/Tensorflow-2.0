{
  "nbformat": 4,
  "nbformat_minor": 0,
  "metadata": {
    "colab": {
      "name": "TensorFlow 2.0으로 인공신경망 구축하기.ipynb",
      "provenance": [],
      "collapsed_sections": [],
      "include_colab_link": true
    },
    "kernelspec": {
      "name": "python3",
      "display_name": "Python 3"
    },
    "accelerator": "GPU"
  },
  "cells": [
    {
      "cell_type": "markdown",
      "metadata": {
        "id": "view-in-github",
        "colab_type": "text"
      },
      "source": [
        "<a href=\"https://colab.research.google.com/github/KIMCAT33/Tensorflow-2.0/blob/master/TensorFlow_2_0%EC%9C%BC%EB%A1%9C_%EC%9D%B8%EA%B3%B5%EC%8B%A0%EA%B2%BD%EB%A7%9D_%EA%B5%AC%EC%B6%95%ED%95%98%EA%B8%B0.ipynb\" target=\"_parent\"><img src=\"https://colab.research.google.com/assets/colab-badge.svg\" alt=\"Open In Colab\"/></a>"
      ]
    },
    {
      "cell_type": "markdown",
      "metadata": {
        "id": "sJr4nMgyb9oS",
        "colab_type": "text"
      },
      "source": [
        "<H1>Fashion MNIST with Tensorflow 2.0 and Keras</H1>\n",
        "\n",
        "![alt text](https://cloudxlab.com/blog/wp-content/uploads/2019/06/Tensorflow_Keras.png)\n",
        "\n",
        "\n",
        "Image source: https://cloudxlab.com/blog/fashion-mnist-using-deep-learning-with-tensorflow-keras/"
      ]
    },
    {
      "cell_type": "markdown",
      "metadata": {
        "id": "vVF9I9v6Zipb",
        "colab_type": "text"
      },
      "source": [
        "## Stage 1: Installing dependencies and setting up GPU environment"
      ]
    },
    {
      "cell_type": "code",
      "metadata": {
        "id": "WS6fShx3Za4O",
        "colab_type": "code",
        "outputId": "e4b330e8-b315-4297-edb1-5eb765018691",
        "colab": {
          "base_uri": "https://localhost:8080/",
          "height": 587
        }
      },
      "source": [
        "!pip install tensorflow-gpu==2.0.0.alpha0"
      ],
      "execution_count": 3,
      "outputs": [
        {
          "output_type": "stream",
          "text": [
            "Collecting tensorflow-gpu==2.0.0.alpha0\n",
            "\u001b[?25l  Downloading https://files.pythonhosted.org/packages/1a/66/32cffad095253219d53f6b6c2a436637bbe45ac4e7be0244557210dc3918/tensorflow_gpu-2.0.0a0-cp36-cp36m-manylinux1_x86_64.whl (332.1MB)\n",
            "\u001b[K     |████████████████████████████████| 332.1MB 85kB/s \n",
            "\u001b[?25hRequirement already satisfied: termcolor>=1.1.0 in /usr/local/lib/python3.6/dist-packages (from tensorflow-gpu==2.0.0.alpha0) (1.1.0)\n",
            "Requirement already satisfied: google-pasta>=0.1.2 in /usr/local/lib/python3.6/dist-packages (from tensorflow-gpu==2.0.0.alpha0) (0.1.7)\n",
            "Requirement already satisfied: absl-py>=0.7.0 in /usr/local/lib/python3.6/dist-packages (from tensorflow-gpu==2.0.0.alpha0) (0.8.0)\n",
            "Requirement already satisfied: six>=1.10.0 in /usr/local/lib/python3.6/dist-packages (from tensorflow-gpu==2.0.0.alpha0) (1.12.0)\n",
            "Collecting tf-estimator-nightly<1.14.0.dev2019030116,>=1.14.0.dev2019030115 (from tensorflow-gpu==2.0.0.alpha0)\n",
            "\u001b[?25l  Downloading https://files.pythonhosted.org/packages/13/82/f16063b4eed210dc2ab057930ac1da4fbe1e91b7b051a6c8370b401e6ae7/tf_estimator_nightly-1.14.0.dev2019030115-py2.py3-none-any.whl (411kB)\n",
            "\u001b[K     |████████████████████████████████| 419kB 47.0MB/s \n",
            "\u001b[?25hRequirement already satisfied: wheel>=0.26 in /usr/local/lib/python3.6/dist-packages (from tensorflow-gpu==2.0.0.alpha0) (0.33.6)\n",
            "Requirement already satisfied: astor>=0.6.0 in /usr/local/lib/python3.6/dist-packages (from tensorflow-gpu==2.0.0.alpha0) (0.8.0)\n",
            "Requirement already satisfied: keras-preprocessing>=1.0.5 in /usr/local/lib/python3.6/dist-packages (from tensorflow-gpu==2.0.0.alpha0) (1.1.0)\n",
            "Requirement already satisfied: numpy<2.0,>=1.14.5 in /usr/local/lib/python3.6/dist-packages (from tensorflow-gpu==2.0.0.alpha0) (1.16.5)\n",
            "Requirement already satisfied: grpcio>=1.8.6 in /usr/local/lib/python3.6/dist-packages (from tensorflow-gpu==2.0.0.alpha0) (1.15.0)\n",
            "Requirement already satisfied: keras-applications>=1.0.6 in /usr/local/lib/python3.6/dist-packages (from tensorflow-gpu==2.0.0.alpha0) (1.0.8)\n",
            "Requirement already satisfied: protobuf>=3.6.1 in /usr/local/lib/python3.6/dist-packages (from tensorflow-gpu==2.0.0.alpha0) (3.7.1)\n",
            "Requirement already satisfied: gast>=0.2.0 in /usr/local/lib/python3.6/dist-packages (from tensorflow-gpu==2.0.0.alpha0) (0.2.2)\n",
            "Collecting tb-nightly<1.14.0a20190302,>=1.14.0a20190301 (from tensorflow-gpu==2.0.0.alpha0)\n",
            "\u001b[?25l  Downloading https://files.pythonhosted.org/packages/a9/51/aa1d756644bf4624c03844115e4ac4058eff77acd786b26315f051a4b195/tb_nightly-1.14.0a20190301-py3-none-any.whl (3.0MB)\n",
            "\u001b[K     |████████████████████████████████| 3.0MB 52.1MB/s \n",
            "\u001b[?25hRequirement already satisfied: h5py in /usr/local/lib/python3.6/dist-packages (from keras-applications>=1.0.6->tensorflow-gpu==2.0.0.alpha0) (2.8.0)\n",
            "Requirement already satisfied: setuptools in /usr/local/lib/python3.6/dist-packages (from protobuf>=3.6.1->tensorflow-gpu==2.0.0.alpha0) (41.2.0)\n",
            "Requirement already satisfied: markdown>=2.6.8 in /usr/local/lib/python3.6/dist-packages (from tb-nightly<1.14.0a20190302,>=1.14.0a20190301->tensorflow-gpu==2.0.0.alpha0) (3.1.1)\n",
            "Requirement already satisfied: werkzeug>=0.11.15 in /usr/local/lib/python3.6/dist-packages (from tb-nightly<1.14.0a20190302,>=1.14.0a20190301->tensorflow-gpu==2.0.0.alpha0) (0.15.6)\n",
            "Installing collected packages: tf-estimator-nightly, tb-nightly, tensorflow-gpu\n",
            "Successfully installed tb-nightly-1.14.0a20190301 tensorflow-gpu-2.0.0a0 tf-estimator-nightly-1.14.0.dev2019030115\n"
          ],
          "name": "stdout"
        },
        {
          "output_type": "display_data",
          "data": {
            "application/vnd.colab-display-data+json": {
              "pip_warning": {
                "packages": [
                  "tensorboard",
                  "tensorflow",
                  "tensorflow_estimator"
                ]
              }
            }
          },
          "metadata": {
            "tags": []
          }
        }
      ]
    },
    {
      "cell_type": "markdown",
      "metadata": {
        "id": "DjlnjPnjWYFw",
        "colab_type": "text"
      },
      "source": [
        "## Stage 2: Import dependencies for the project"
      ]
    },
    {
      "cell_type": "code",
      "metadata": {
        "id": "yt0-hrch6rZw",
        "colab_type": "code",
        "colab": {}
      },
      "source": [
        "import numpy as np\n",
        "import datetime\n",
        "import tensorflow as tf\n",
        "from tensorflow.keras.datasets import fashion_mnist"
      ],
      "execution_count": 0,
      "outputs": []
    },
    {
      "cell_type": "code",
      "metadata": {
        "id": "_vv9AXUnZW78",
        "colab_type": "code",
        "outputId": "1f73d1ca-1ab7-4ba9-bc19-3726e65cab54",
        "colab": {
          "base_uri": "https://localhost:8080/",
          "height": 35
        }
      },
      "source": [
        "tf.__version__"
      ],
      "execution_count": 5,
      "outputs": [
        {
          "output_type": "execute_result",
          "data": {
            "text/plain": [
              "'1.14.0'"
            ]
          },
          "metadata": {
            "tags": []
          },
          "execution_count": 5
        }
      ]
    },
    {
      "cell_type": "markdown",
      "metadata": {
        "id": "K2OiUS-kWkJU",
        "colab_type": "text"
      },
      "source": [
        "## Stage 3: Dataset preprocessing\n",
        "\n"
      ]
    },
    {
      "cell_type": "markdown",
      "metadata": {
        "id": "DdfoFiEEXYj1",
        "colab_type": "text"
      },
      "source": [
        "\n",
        "### 데이터 셋 불러오기"
      ]
    },
    {
      "cell_type": "code",
      "metadata": {
        "id": "-lCgz6UC8pKT",
        "colab_type": "code",
        "outputId": "c2093ff7-49c3-4f21-9765-483df8e02c84",
        "colab": {
          "base_uri": "https://localhost:8080/",
          "height": 159
        }
      },
      "source": [
        "#Fashion Mnist dataset 로드하기\n",
        "(X_train, y_train), (X_test, y_test) = fashion_mnist.load_data()"
      ],
      "execution_count": 6,
      "outputs": [
        {
          "output_type": "stream",
          "text": [
            "Downloading data from https://storage.googleapis.com/tensorflow/tf-keras-datasets/train-labels-idx1-ubyte.gz\n",
            "32768/29515 [=================================] - 0s 0us/step\n",
            "Downloading data from https://storage.googleapis.com/tensorflow/tf-keras-datasets/train-images-idx3-ubyte.gz\n",
            "26427392/26421880 [==============================] - 0s 0us/step\n",
            "Downloading data from https://storage.googleapis.com/tensorflow/tf-keras-datasets/t10k-labels-idx1-ubyte.gz\n",
            "8192/5148 [===============================================] - 0s 0us/step\n",
            "Downloading data from https://storage.googleapis.com/tensorflow/tf-keras-datasets/t10k-images-idx3-ubyte.gz\n",
            "4423680/4422102 [==============================] - 0s 0us/step\n"
          ],
          "name": "stdout"
        }
      ]
    },
    {
      "cell_type": "markdown",
      "metadata": {
        "id": "WRA7HUm4r1lS",
        "colab_type": "text"
      },
      "source": [
        "Fashion-MNIST 데이터셋에는 10개의 카테고리가 있습니다.\n",
        "\n",
        "레이블 설명\n",
        "\n",
        "0 티셔츠/탑\n",
        "1 바지\n",
        "2 풀오버(스웨터의 일종)\n",
        "3 드레스\n",
        "4 코트\n",
        "5 샌들\n",
        "6 셔츠\n",
        "7 스니커즈\n",
        "8 가방\n",
        "9 앵클 부츠"
      ]
    },
    {
      "cell_type": "code",
      "metadata": {
        "id": "jiNSTuersEJv",
        "colab_type": "code",
        "colab": {
          "base_uri": "https://localhost:8080/",
          "height": 287
        },
        "outputId": "0be10d0b-4af8-4f7c-b2c3-8186a6d71e5e"
      },
      "source": [
        "import matplotlib.pyplot as plt\n",
        "plt.imshow(X_train[10])"
      ],
      "execution_count": 13,
      "outputs": [
        {
          "output_type": "execute_result",
          "data": {
            "text/plain": [
              "<matplotlib.image.AxesImage at 0x7f4b208eff28>"
            ]
          },
          "metadata": {
            "tags": []
          },
          "execution_count": 13
        },
        {
          "output_type": "display_data",
          "data": {
            "image/png": "[encoded data removed]",
            "text/plain": [
              "<Figure size 432x288 with 1 Axes>"
            ]
          },
          "metadata": {
            "tags": []
          }
        }
      ]
    },
    {
      "cell_type": "markdown",
      "metadata": {
        "id": "AYxeEHzDXdSs",
        "colab_type": "text"
      },
      "source": [
        "### 이미지 정규화\n",
        "\n",
        "픽셀이 가질 수 있는 값의 최대값인 255로 훈련 데이터와 테스트 데이터셋을 나눠줍니다. \n",
        "\n",
        "이러한 방법으로 각각의 픽셀은 [0, 1] 범위의 값을 가질 것입니다. 이미지를 정규화함으로써 인공 신경망이 학습을 더 빠르고 정확하게 해줍니다. "
      ]
    },
    {
      "cell_type": "code",
      "metadata": {
        "id": "zvWzsB3G9IU8",
        "colab_type": "code",
        "colab": {}
      },
      "source": [
        "X_train = X_train / 255.0"
      ],
      "execution_count": 0,
      "outputs": []
    },
    {
      "cell_type": "code",
      "metadata": {
        "id": "lo--rpqo9ZtA",
        "colab_type": "code",
        "colab": {}
      },
      "source": [
        "X_test = X_test / 255.0"
      ],
      "execution_count": 0,
      "outputs": []
    },
    {
      "cell_type": "markdown",
      "metadata": {
        "id": "uBacLmGIX0Es",
        "colab_type": "text"
      },
      "source": [
        "### 데이터 셋 크기 조정\n",
        "여기서 완전연결네트워크(Fully-connected network)모델을 사용할 것이므로, 우리는 훈련 데이터와 테스트 데이터 셋을 vector형태(1차원 행렬)로 바꿔주어야 합니다. \n"
      ]
    },
    {
      "cell_type": "code",
      "metadata": {
        "id": "2Tao7pom-grn",
        "colab_type": "code",
        "colab": {}
      },
      "source": [
        "# 각각의 이미지의 사이즈가 28(세로)x28(가로) 이므로, 데이터의 사이즈를 [-1 (모든 데이터 셋), 세로*가로 ]로 조정해줍니다.\n",
        "X_train = X_train.reshape(-1, 28*28)\n",
        "X_test = X_test.reshape(-1, 28*28)"
      ],
      "execution_count": 0,
      "outputs": []
    },
    {
      "cell_type": "code",
      "metadata": {
        "id": "t9MbMrg9-kr_",
        "colab_type": "code",
        "outputId": "d1d9a1ea-2fe2-4cf6-dc3c-d75ae76a18dd",
        "colab": {
          "base_uri": "https://localhost:8080/",
          "height": 35
        }
      },
      "source": [
        "X_train.shape"
      ],
      "execution_count": 22,
      "outputs": [
        {
          "output_type": "execute_result",
          "data": {
            "text/plain": [
              "(60000, 784)"
            ]
          },
          "metadata": {
            "tags": []
          },
          "execution_count": 22
        }
      ]
    },
    {
      "cell_type": "markdown",
      "metadata": {
        "id": "x5aDsaYSYmXD",
        "colab_type": "text"
      },
      "source": [
        "## Stage 4: Building an Artificial Neural network"
      ]
    },
    {
      "cell_type": "markdown",
      "metadata": {
        "id": "l30aZ6-GYtUP",
        "colab_type": "text"
      },
      "source": [
        "### 모델 정의하기\n",
        "간단히 Sequential 모델의 객체를 정의합니다. 여기서 우리는 tensorflow 내의 고수준 API인 Keras를 이용해 간단히 완전연결네트워크를 구현해보겠습니다."
      ]
    },
    {
      "cell_type": "code",
      "metadata": {
        "id": "xmfogzmn9kqv",
        "colab_type": "code",
        "colab": {}
      },
      "source": [
        "model = tf.keras.models.Sequential() ## model.Sequential() 메서드를 통해서 레이어 셋트를 정의해줍니다."
      ],
      "execution_count": 0,
      "outputs": []
    },
    {
      "cell_type": "markdown",
      "metadata": {
        "id": "TNzLOAK5Y-mR",
        "colab_type": "text"
      },
      "source": [
        "### 첫 번째 레이어(Dense 층) 추가하기\n",
        "\n",
        "Layer hyper-parameters:\n",
        "- number of units/neurons: 128 : 레이어의 노드 수\n",
        "- activation function: ReLU   : 활성화 함수\n",
        "- input_shape: (784, ) : 입력 데이터의 사이즈"
      ]
    },
    {
      "cell_type": "markdown",
      "metadata": {
        "id": "CU0gRo93KYfn",
        "colab_type": "text"
      },
      "source": [
        ">Q) 활성화 함수가 무엇인가요?\n",
        "\n",
        "> 활성화 함수는 입력데이터의 값이 가중치(w)와 편향(b)와 합쳐져 노드로 들어왔을 때 그 값을 변환해주어 비선형적인 구조도 해석할 수 있게 도와줍니다. \n",
        "\n",
        "이번 실습에서는 0보다 크면 본래 값을 return 해주고 0보다 작으면 0으로 return 해주는 'Relu(Rectifier Linear Unit)'를 사용하였습니다.\n",
        "\n",
        "![alt text](https://c.mql5.com/2/35/artificialneuron__1.gif)\n",
        "\n",
        "Image source:\n",
        "https://www.mql5.com/en/blogs/post/724245"
      ]
    },
    {
      "cell_type": "code",
      "metadata": {
        "id": "GBsfDyGE-FX5",
        "colab_type": "code",
        "colab": {}
      },
      "source": [
        "model.add(tf.keras.layers.Dense(units=128, activation='relu', input_shape=(784, )))"
      ],
      "execution_count": 0,
      "outputs": []
    },
    {
      "cell_type": "markdown",
      "metadata": {
        "id": "Vwqx1wZUa1rH",
        "colab_type": "text"
      },
      "source": [
        "### 드롭아웃(Dropout) 층 추가하기\n",
        "> 드롭아웃은 층 안에 있는 노드(뉴런)을 랜덤하게 0으로 만들어 모델을 일반화하는 기법입니다. 훈련 과정 중에서 몇몇 노드(뉴런)은 업데이트 되지 않게 하는데 이 방법을 통해 모델이 훈련데이터에 오버피팅될 가능성을 줄여줍니다. \n",
        "\n",
        "오버피팅 : 모델이 훈련 데이터의 패턴을 너무 많이 학습하여 새로운 데이터에 대한 예측을 제대로 하지 못하는 상태를 말합니다. 우리는 모델이 어떠한 데이터에 있어서도 좋은 성과가 나오도록 일반화를 하는 것을 목표로 하여야 합니다!"
      ]
    },
    {
      "cell_type": "code",
      "metadata": {
        "id": "tAmpLPlr-pOX",
        "colab_type": "code",
        "colab": {}
      },
      "source": [
        "model.add(tf.keras.layers.Dropout(0.2)) # 전체 노드의 20%만 Dropout을 적용하겠습니다."
      ],
      "execution_count": 0,
      "outputs": []
    },
    {
      "cell_type": "markdown",
      "metadata": {
        "id": "BGqvyDvNbzwN",
        "colab_type": "text"
      },
      "source": [
        "### 두번 째 층 추가하기 - 출력층(output layer)\n",
        "\n",
        "- units == number of classes (이는 우리가 결과로 가질 수 있는 값의 수 입니다. Fashion MNIST에서는 10 입니다.) \n",
        "- activation = 'softmax' (softmax 함수는 결과로 나온 전체 값의 합을 0과 1사이로 반환해줍니다.)"
      ]
    },
    {
      "cell_type": "code",
      "metadata": {
        "id": "OmkUuF9Y-3mG",
        "colab_type": "code",
        "colab": {}
      },
      "source": [
        "model.add(tf.keras.layers.Dense(units=10, activation='softmax'))"
      ],
      "execution_count": 0,
      "outputs": []
    },
    {
      "cell_type": "markdown",
      "metadata": {
        "id": "2rRsMjsvcOua",
        "colab_type": "text"
      },
      "source": [
        "### 모델 컴파일하기\n",
        "\n",
        "- Optimizer: Adam (손실 함수의 결과를 어떤 방식으로 최적화 할 것인가?)\n",
        "- Loss: Sparse softmax (categorical) crossentropy (분류 문제에 대한 손실 함수)"
      ]
    },
    {
      "cell_type": "code",
      "metadata": {
        "id": "nbW3xeRK_CrN",
        "colab_type": "code",
        "colab": {}
      },
      "source": [
        "model.compile(optimizer='adam', loss='sparse_categorical_crossentropy', metrics=['sparse_categorical_accuracy'])"
      ],
      "execution_count": 0,
      "outputs": []
    },
    {
      "cell_type": "code",
      "metadata": {
        "id": "8dQOL_EtChrN",
        "colab_type": "code",
        "outputId": "c13daea4-ef94-4313-fad6-3b48febced70",
        "colab": {
          "base_uri": "https://localhost:8080/",
          "height": 266
        }
      },
      "source": [
        "model.summary() # 네트워크 구성 확인하기 "
      ],
      "execution_count": 19,
      "outputs": [
        {
          "output_type": "stream",
          "text": [
            "Model: \"sequential\"\n",
            "_________________________________________________________________\n",
            "Layer (type)                 Output Shape              Param #   \n",
            "=================================================================\n",
            "dense (Dense)                (None, 128)               100480    \n",
            "_________________________________________________________________\n",
            "dropout (Dropout)            (None, 128)               0         \n",
            "_________________________________________________________________\n",
            "dense_1 (Dense)              (None, 10)                1290      \n",
            "=================================================================\n",
            "Total params: 101,770\n",
            "Trainable params: 101,770\n",
            "Non-trainable params: 0\n",
            "_________________________________________________________________\n"
          ],
          "name": "stdout"
        }
      ]
    },
    {
      "cell_type": "markdown",
      "metadata": {
        "id": "oHXNjjO-Plwk",
        "colab_type": "text"
      },
      "source": [
        "첫 번째 Dense층에서 파라미터가 100480개인데 이는 784(입력 데이터 수) * 128(w가중치의 개수) + 128(편향의 수) = 100,480개로 계산할 수 있습니다.\n",
        "\n",
        "마찬가지로 두 번째 Dense층은 128(앞의 층의 노드 수) x 10 + 10 = 1290개로 계산할 수 있습니다.\n",
        "\n",
        "총 파라미터 수는 각 층의 파라미터 수를 합쳐주면 됩니다. 간단한 모델이지만 학습해가며 101,770개의 파라미터(숫자)를 수정하면서 모델을 최적화시켜 나갑니다. "
      ]
    },
    {
      "cell_type": "markdown",
      "metadata": {
        "id": "9kxIIFU1cany",
        "colab_type": "text"
      },
      "source": [
        "### 모델 학습시키기"
      ]
    },
    {
      "cell_type": "code",
      "metadata": {
        "id": "s-_oLiE0_3A2",
        "colab_type": "code",
        "outputId": "6f909665-6efe-4fbc-e1e6-2e06f2c1ddc0",
        "colab": {
          "base_uri": "https://localhost:8080/",
          "height": 212
        }
      },
      "source": [
        "model.fit(X_train, y_train, epochs=5) # 전체 sample 데이터를 이용하여 한 바퀴 돌며 학습하는 것을 1회 epoch이라 부릅니다. 5번 epochs으로 학습시켜 보겠습니다."
      ],
      "execution_count": 20,
      "outputs": [
        {
          "output_type": "stream",
          "text": [
            "Epoch 1/5\n",
            "60000/60000 [==============================] - 6s 100us/sample - loss: 0.5288 - sparse_categorical_accuracy: 0.8128\n",
            "Epoch 2/5\n",
            "60000/60000 [==============================] - 5s 88us/sample - loss: 0.3980 - sparse_categorical_accuracy: 0.8561\n",
            "Epoch 3/5\n",
            "60000/60000 [==============================] - 5s 89us/sample - loss: 0.3673 - sparse_categorical_accuracy: 0.8654\n",
            "Epoch 4/5\n",
            "60000/60000 [==============================] - 5s 89us/sample - loss: 0.3446 - sparse_categorical_accuracy: 0.8727\n",
            "Epoch 5/5\n",
            "60000/60000 [==============================] - 5s 89us/sample - loss: 0.3299 - sparse_categorical_accuracy: 0.8792\n"
          ],
          "name": "stdout"
        },
        {
          "output_type": "execute_result",
          "data": {
            "text/plain": [
              "<tensorflow.python.keras.callbacks.History at 0x7f733738f048>"
            ]
          },
          "metadata": {
            "tags": []
          },
          "execution_count": 20
        }
      ]
    },
    {
      "cell_type": "markdown",
      "metadata": {
        "id": "x7r4jjqxQ1Yd",
        "colab_type": "text"
      },
      "source": [
        "Epoch이 늘어가며 loss가 줄어드는 것을 볼 수 있습니다. 이것이 바로 학습이 되어 정확도가 올라가고 있다는 것을 알 수 있는 대목입니다."
      ]
    },
    {
      "cell_type": "markdown",
      "metadata": {
        "id": "mj23nxmtcrhd",
        "colab_type": "text"
      },
      "source": [
        "### 모델 평가와 예측"
      ]
    },
    {
      "cell_type": "code",
      "metadata": {
        "id": "-nQCioOmAL7i",
        "colab_type": "code",
        "outputId": "25043f64-7a02-4fb0-8679-76f0ecf78270",
        "colab": {
          "base_uri": "https://localhost:8080/",
          "height": 35
        }
      },
      "source": [
        "test_loss, test_accuracy = model.evaluate(X_test, y_test) # 이제 테스트 데이터를 사용하여 우리가 학습시킨 모델이 얼마의 정확도를 가지는지 한 번 테스트해봅시다"
      ],
      "execution_count": 24,
      "outputs": [
        {
          "output_type": "stream",
          "text": [
            "10000/10000 [==============================] - 1s 58us/sample - loss: 0.3584 - sparse_categorical_accuracy: 0.8709\n"
          ],
          "name": "stdout"
        }
      ]
    },
    {
      "cell_type": "code",
      "metadata": {
        "id": "Ozv2YVlxcx1h",
        "colab_type": "code",
        "outputId": "695ead57-25d0-484a-b28a-ada8ea381e1a",
        "colab": {
          "base_uri": "https://localhost:8080/",
          "height": 35
        }
      },
      "source": [
        "print(\"Test accuracy: {}\".format(test_accuracy)) # 정확도가 약 87%정도 나오네요! 10가지 클래스에 관해서 랜덤하게 예측했을 때 "
      ],
      "execution_count": 25,
      "outputs": [
        {
          "output_type": "stream",
          "text": [
            "Test accuracy: 0.8708999752998352\n"
          ],
          "name": "stdout"
        }
      ]
    },
    {
      "cell_type": "markdown",
      "metadata": {
        "id": "Noi53-uq9yhl",
        "colab_type": "text"
      },
      "source": [
        "## Stage 5 : 모델 저장하기\n",
        "\n",
        "\n",
        "\n"
      ]
    },
    {
      "cell_type": "markdown",
      "metadata": {
        "id": "eMFm-Z9I99R5",
        "colab_type": "text"
      },
      "source": [
        "### 네트워크 구조(토폴로지) 저장하기"
      ]
    },
    {
      "cell_type": "code",
      "metadata": {
        "id": "pT7pmXWO9xxM",
        "colab_type": "code",
        "colab": {}
      },
      "source": [
        "model_json = model.to_json()\n",
        "with open(\"fashion_model.json\", \"w\") as json_file:\n",
        "    json_file.write(model_json)"
      ],
      "execution_count": 0,
      "outputs": []
    },
    {
      "cell_type": "markdown",
      "metadata": {
        "id": "5UDk8L4A-CQX",
        "colab_type": "text"
      },
      "source": [
        "### 네트워크 가중치 저장하기"
      ]
    },
    {
      "cell_type": "code",
      "metadata": {
        "id": "R0ZOVcC498Mp",
        "colab_type": "code",
        "colab": {}
      },
      "source": [
        "model.save_weights(\"fashion_model.h5\")"
      ],
      "execution_count": 0,
      "outputs": []
    },
    {
      "cell_type": "code",
      "metadata": {
        "id": "sQoUC2wRS64X",
        "colab_type": "code",
        "colab": {}
      },
      "source": [
        ""
      ],
      "execution_count": 0,
      "outputs": []
    }
  ]
}